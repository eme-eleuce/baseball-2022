{
 "cells": [
  {
   "cell_type": "code",
   "execution_count": 15,
   "metadata": {},
   "outputs": [
    {
     "name": "stdout",
     "output_type": "stream",
     "text": [
      "Gathering Player Data\n"
     ]
    }
   ],
   "source": [
    "import pandas as pd \n",
    " # Find Clayton Kershaw's player id\n",
    "from baseball_scraper import playerid_lookup\n",
    "from baseball_scraper import statcast_batter\n",
    "\n",
    "kershaw_stats = statcast_batter('2024-03-20', '2024-09-29', 656941)\n",
    "kershaw_stats.head\n",
    "kershaw_stats.to_csv('skubal-2024.csv', index=False)"
   ]
  }
 ],
 "metadata": {
  "kernelspec": {
   "display_name": "Python 3",
   "language": "python",
   "name": "python3"
  },
  "language_info": {
   "codemirror_mode": {
    "name": "ipython",
    "version": 3
   },
   "file_extension": ".py",
   "mimetype": "text/x-python",
   "name": "python",
   "nbconvert_exporter": "python",
   "pygments_lexer": "ipython3",
   "version": "3.11.9"
  }
 },
 "nbformat": 4,
 "nbformat_minor": 2
}
