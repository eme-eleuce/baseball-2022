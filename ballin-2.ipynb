{
 "cells": [
  {
   "cell_type": "code",
   "execution_count": 24,
   "metadata": {},
   "outputs": [],
   "source": [
    "import pandas as pd\n",
    "import matplotlib.pyplot as plt\n",
    "from matplotlib.table import Table\n",
    "import seaborn as sns\n",
    "import numpy as np\n",
    "from math import sqrt, atan, degrees\n",
    "\n",
    "mlb_data = pd.read_csv('skubal-2024.csv')"
   ]
  },
  {
   "cell_type": "code",
   "execution_count": null,
   "metadata": {},
   "outputs": [],
   "source": []
  },
  {
   "cell_type": "code",
   "execution_count": 25,
   "metadata": {},
   "outputs": [
    {
     "name": "stderr",
     "output_type": "stream",
     "text": [
      "C:\\Users\\luism\\AppData\\Local\\Temp\\ipykernel_17668\\1190299128.py:5: SettingWithCopyWarning: \n",
      "A value is trying to be set on a copy of a slice from a DataFrame.\n",
      "Try using .loc[row_indexer,col_indexer] = value instead\n",
      "\n",
      "See the caveats in the documentation: https://pandas.pydata.org/pandas-docs/stable/user_guide/indexing.html#returning-a-view-versus-a-copy\n",
      "  strikes_data['description'] = strikes_data.apply(\n"
     ]
    },
    {
     "name": "stdout",
     "output_type": "stream",
     "text": [
      "     Batter ID   Game Date Count             Last 2 Pitches     Strike\n",
      "0       455117  2024-03-28   0-2        [Slider, Four-Seam]  Four-Seam\n",
      "1       457705  2024-05-29   0-1        [Slider, Four-Seam]     Slider\n",
      "2       457705  2024-05-29   0-2        [Four-Seam, Slider]  Four-Seam\n",
      "3       457705  2024-05-29   2-2        [Slider, Four-Seam]     Sinker\n",
      "4       457759  2024-08-07   1-1                [Four-Seam]     Sinker\n",
      "..         ...         ...   ...                        ...        ...\n",
      "560     694671  2024-06-03   0-1    [Slider, Knuckle Curve]   Changeup\n",
      "561     694671  2024-06-03   3-0  [Knuckle Curve, Changeup]  Four-Seam\n",
      "562     694671  2024-06-03   3-2      [Changeup, Four-Seam]   Changeup\n",
      "563     696100  2024-09-12   0-2                [Four-Seam]  Four-Seam\n",
      "564     805779  2024-09-06   2-2                   [Sinker]   Changeup\n",
      "\n",
      "[565 rows x 5 columns]\n"
     ]
    }
   ],
   "source": [
    "\n",
    "# Filtrar lanzamientos que son strikes\n",
    "strikes_data = mlb_data[mlb_data['description'].isin(['called_strike', 'swinging_strike', 'foul_tip'])]\n",
    "\n",
    "# Cambiar la descripción a 'strikeout' si la cuenta tiene dos strikes\n",
    "strikes_data['description'] = strikes_data.apply(\n",
    "    lambda row: 'strikeout' if row['count'].count('-') == 1 and row['count'].split('-')[1] == '2' else row['description'],\n",
    "    axis=1\n",
    ")\n",
    "\n",
    "# Función para obtener las dos últimas secuencias de lanzamientos antes de un strike\n",
    "def get_pitch_sequences(strikes_df):\n",
    "    sequences = []\n",
    "    \n",
    "    # Agrupar por cada bateador y juego\n",
    "    grouped = strikes_df.groupby(['batter', 'game_date'])\n",
    "    \n",
    "    for (batter, game_date), group in grouped:\n",
    "        # Ordenar los lanzamientos por la cuenta\n",
    "        group = group.sort_values('count')\n",
    "        \n",
    "        for index, row in group.iterrows():\n",
    "            # Obtener la cuenta actual\n",
    "            current_count = row['count']\n",
    "            \n",
    "            # Filtrar lanzamientos previos a este strike\n",
    "            prior_pitches = group[group['count'] < current_count].tail(2)  # Obtiene los 2 últimos lanzamientos\n",
    "            \n",
    "            if len(prior_pitches) == 2:  # Asegurarse de tener exactamente 2 lanzamientos\n",
    "                sequence = prior_pitches['pitch_name'].tolist()\n",
    "                strike = row['pitch_name']  # En este caso, se almacenará 'strikeout' si corresponde\n",
    "                sequences.append((batter, game_date, current_count, sequence, strike))\n",
    "            elif len(prior_pitches) == 1:  # Si solo hay 1 pitcheo anterior\n",
    "                sequence = prior_pitches['pitch_name'].tolist()\n",
    "                strike = row['pitch_name']\n",
    "                sequences.append((batter, game_date, current_count, sequence, strike))\n",
    "\n",
    "    return sequences\n",
    "\n",
    "# Obtener las secuencias de pitcheo que llevaron a un strike\n",
    "pitch_sequences = get_pitch_sequences(strikes_data)\n",
    "\n",
    "# Convertir a DataFrame para análisis\n",
    "sequences_df = pd.DataFrame(pitch_sequences, columns=['Batter ID', 'Game Date', 'Count', 'Last 2 Pitches', 'Strike'])\n",
    "print(sequences_df)\n",
    "#sequences_df.to_csv('1-2024.csv', index=False)\n"
   ]
  }
 ],
 "metadata": {
  "kernelspec": {
   "display_name": "Python 3",
   "language": "python",
   "name": "python3"
  },
  "language_info": {
   "codemirror_mode": {
    "name": "ipython",
    "version": 3
   },
   "file_extension": ".py",
   "mimetype": "text/x-python",
   "name": "python",
   "nbconvert_exporter": "python",
   "pygments_lexer": "ipython3",
   "version": "3.11.9"
  }
 },
 "nbformat": 4,
 "nbformat_minor": 2
}
